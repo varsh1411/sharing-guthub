{
 "cells": [
  {
   "cell_type": "markdown",
   "metadata": {},
   "source": [
    "<center>\n",
    "    <img src=\"https://cf-courses-data.s3.us.cloud-object-storage.appdomain.cloud/IBMDeveloperSkillsNetwork-DS0105EN-SkillsNetwork/labs/Module2/images/SN_web_lightmode.png\" width=\"300\" alt=\"cognitiveclass.ai logo\">\n",
    "</center>\n"
   ]
  },
  {
   "cell_type": "markdown",
   "metadata": {},
   "source": [
    "#### Add your code below following the instructions given in the course\n"
   ]
  },
  {
   "cell_type": "markdown",
   "metadata": {},
   "source": [
    "# **My Jupyter Notebook on IBM Watson Studio**"
   ]
  },
  {
   "cell_type": "markdown",
   "metadata": {
    "tags": []
   },
   "source": [
    "## **Introduction about the Jupyter Assignment:**\n",
    "I am interested in Data Science because I would love to contribute towards affordable and quality healthcare in the future"
   ]
  },
  {
   "cell_type": "markdown",
   "metadata": {},
   "source": [
    "### **Data Science Languages:**\n",
    "1. Python\n",
    "2. SQL\n",
    "3. R\n",
    "4. Scala\n",
    "5. Julia\n",
    "6. JavaScript\n",
    "7. Java\n",
    "8. Php\n",
    "9. Ruby\n",
    "10. Visual Basic\n",
    "11. Go\n",
    "     "
   ]
  },
  {
   "cell_type": "markdown",
   "metadata": {},
   "source": [
    "### **Data Science Libraries:**\n",
    "1. Numpy\n",
    "2. Pandas\n",
    "3. Matplotlib\n",
    "4. Scikitlearn\n",
    "5. Scipy\n",
    "6. TensorFlow\n",
    "7. Keras\n",
    "8. Pytorch\n",
    "9. Seaborn\n",
    "10. Vegas\n",
    "11. Ggplot2\n",
    "12. Big DL\n"
   ]
  },
  {
   "cell_type": "markdown",
   "metadata": {},
   "source": [
    "### **Data Science Tools:**\n",
    "NO | Tools      \n",
    "--|:---------:\n",
    "1|SAS       \n",
    "2|Apache Spark  \n",
    "3|MATLAB\n",
    "4|Tableau\n",
    "5|Jupyter\n",
    "6|Matplotlib\n",
    "7|NLTK\n",
    "8|Scikit-Learn\n",
    "9|Tensor Flow\n",
    "10|ggplot2"
   ]
  },
  {
   "cell_type": "markdown",
   "metadata": {},
   "source": [
    "### **Arithmetic expression:**\n",
    "##### a=6\n",
    "##### b=9\n",
    "##### c=a+b\n",
    "##### print(c)"
   ]
  },
  {
   "cell_type": "markdown",
   "metadata": {},
   "source": [
    "### **Code cell to multiply and add numbers:**\n"
   ]
  },
  {
   "cell_type": "code",
   "execution_count": 4,
   "metadata": {},
   "outputs": [
    {
     "name": "stdout",
     "output_type": "stream",
     "text": [
      "THE MULTIPLICATION AND ADDITION OF d: 17\n"
     ]
    }
   ],
   "source": [
    "a=3\n",
    "b=4\n",
    "c=5\n",
    "d=(a*b)+c\n",
    "print(\"THE MULTIPLICATION AND ADDITION OF d:\",d)"
   ]
  },
  {
   "cell_type": "markdown",
   "metadata": {},
   "source": [
    "### **Code cell to convert minutes to hours:**"
   ]
  },
  {
   "cell_type": "code",
   "execution_count": 1,
   "metadata": {},
   "outputs": [
    {
     "name": "stdout",
     "output_type": "stream",
     "text": [
      "hours = 3 ,min =20\n"
     ]
    }
   ],
   "source": [
    "Total_min=200\n",
    "min= Total_min % 60\n",
    "hours= (Total_min - min)/ 60\n",
    "print(\"hours = %d ,min =%d\" % (hours,min))\n"
   ]
  },
  {
   "attachments": {},
   "cell_type": "markdown",
   "metadata": {},
   "source": [
    "#### **OBJECTIVES:**\n",
    "\n",
    "- Add comments to code cells\n",
    "- Create markdown cells\n",
    "- Add ordered and unordered list to mardown cells\n",
    "- Format content of markdown cells with heading styles\n"
   ]
  },
  {
   "attachments": {},
   "cell_type": "markdown",
   "metadata": {},
   "source": [
    "## **Author(s)**\n",
    "Varshini T"
   ]
  },
  {
   "cell_type": "markdown",
   "metadata": {},
   "source": [
    "# GITHUB:\n",
    "https://github.com/Sollarasu2001/sharing-guthub/blob/main/IBMassignment1.ipynb"
   ]
  },
  {
   "cell_type": "code",
   "execution_count": null,
   "metadata": {},
   "outputs": [],
   "source": []
  }
 ],
 "metadata": {
  "kernelspec": {
   "display_name": "Python 3",
   "language": "python",
   "name": "python3"
  },
  "language_info": {
   "codemirror_mode": {
    "name": "ipython",
    "version": 3
   },
   "file_extension": ".py",
   "mimetype": "text/x-python",
   "name": "python",
   "nbconvert_exporter": "python",
   "pygments_lexer": "ipython3",
   "version": "3.10.2"
  }
 },
 "nbformat": 4,
 "nbformat_minor": 4
}
